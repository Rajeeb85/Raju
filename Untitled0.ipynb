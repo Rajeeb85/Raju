{
  "nbformat": 4,
  "nbformat_minor": 0,
  "metadata": {
    "colab": {
      "name": "Untitled0.ipynb",
      "provenance": [],
      "authorship_tag": "ABX9TyNuinNdkYNAzL9h0Zup29Kt",
      "include_colab_link": true
    },
    "kernelspec": {
      "name": "python3",
      "display_name": "Python 3"
    },
    "language_info": {
      "name": "python"
    }
  },
  "cells": [
    {
      "cell_type": "markdown",
      "metadata": {
        "id": "view-in-github",
        "colab_type": "text"
      },
      "source": [
        "<a href=\"https://colab.research.google.com/github/Rajeeb85/Raju/blob/main/Untitled0.ipynb\" target=\"_parent\"><img src=\"https://colab.research.google.com/assets/colab-badge.svg\" alt=\"Open In Colab\"/></a>"
      ]
    },
    {
      "cell_type": "code",
      "execution_count": 1,
      "metadata": {
        "colab": {
          "base_uri": "https://localhost:8080/"
        },
        "id": "F6bLC46Wp8i3",
        "outputId": "d7c169d4-3ab8-4169-f845-7cb9cbb10f3c"
      },
      "outputs": [
        {
          "output_type": "stream",
          "name": "stdout",
          "text": [
            "56\n",
            "76\n",
            "59\n",
            "63.666666666666664\n"
          ]
        }
      ],
      "source": [
        "a1=(int)(input())\n",
        "a2=(int)(input())\n",
        "a3=(int)(input())\n",
        "print((a1+a2+a3)/3)"
      ]
    },
    {
      "cell_type": "code",
      "source": [
        "#f=32+(c*5/9)\n",
        "c=int(input())\n",
        "f=32+(c*5/9)\n",
        "print (f)\n"
      ],
      "metadata": {
        "colab": {
          "base_uri": "https://localhost:8080/"
        },
        "id": "IbVcFlQ_qhFh",
        "outputId": "4ab4e10e-5409-4f3a-ae64-a91bd3a5e50d"
      },
      "execution_count": 4,
      "outputs": [
        {
          "output_type": "stream",
          "name": "stdout",
          "text": [
            "97\n",
            "85.88888888888889\n"
          ]
        }
      ]
    }
  ]
}